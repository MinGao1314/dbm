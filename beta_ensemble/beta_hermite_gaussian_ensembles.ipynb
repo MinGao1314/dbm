{
 "cells": [
  {
   "cell_type": "markdown",
   "metadata": {},
   "source": [
    "# The$\\ \\beta$-Hermite (Gaussian) Ensembles\n",
    "\n",
    "Referencing paper : <i>Matrix Models for Beta Ensembles</i>, Ioana Dumitriu and Alan Edelman\n",
    "\n",
    "- Generation of $\\ \\beta$-Hermite Gaussian Ensemble as in the paper\n",
    "- Plot the DPP created by the matrices of this ensemble\n",
    "- Finfd a dynamic version, a Dyson Brownian motion version.\n",
    "\n",
    "## 1. Static"
   ]
  },
  {
   "cell_type": "code",
   "execution_count": 1,
   "metadata": {},
   "outputs": [
    {
     "name": "stdout",
     "output_type": "stream",
     "text": [
      "Populating the interactive namespace from numpy and matplotlib\n"
     ]
    }
   ],
   "source": [
    "%pylab inline\n",
    "from matplotlib import gridspec\n",
    "plt.style.use('classic')\n",
    "plt.rc('figure',facecolor='w')\n",
    "plt.rc('font', size=10)\n",
    "from numpy.matlib import repmat\n",
    "import plotly.graph_objs as go\n",
    "import plotly.offline\n",
    "import sys\n",
    "sys.path.append('../dyson_brownian_motion/')\n",
    "from plot_tools import adjust_spines, sc_law, plot_dpp, plot_traj_with_histo, plot_traj_with_histo_sclaw\n"
   ]
  },
  {
   "cell_type": "code",
   "execution_count": 2,
   "metadata": {},
   "outputs": [],
   "source": [
    "def beta_Hermite_Gaussian_ensemble(dim, beta):\n",
    "    diag = np.diag(np.random.randn(dim))\n",
    "    u_diag_vect = np.zeros(dim-1)\n",
    "    for i in range(0,dim-1):\n",
    "        u_diag_vect[i] = np.sqrt(np.random.chisquare((dim-(i+1))*beta))\n",
    "    u_diag = np.diag(u_diag_vect,1)\n",
    "    H_b = diag + u_diag + u_diag.T\n",
    "    return H_b"
   ]
  },
  {
   "cell_type": "code",
   "execution_count": 3,
   "metadata": {},
   "outputs": [],
   "source": [
    "# Eigenvalues sample\n",
    "N = 200\n",
    "eigenvalues_samples = np.linalg.eigvalsh(beta_Hermite_Gaussian_ensemble(N, 2))"
   ]
  },
  {
   "cell_type": "code",
   "execution_count": 4,
   "metadata": {},
   "outputs": [],
   "source": [
    "#plot_dpp(eigenvalues_samples, './plot/beta_hermite_eigenvalues.png')"
   ]
  },
  {
   "cell_type": "markdown",
   "metadata": {},
   "source": [
    "## 2. Dynamic (classic)"
   ]
  },
  {
   "cell_type": "code",
   "execution_count": 5,
   "metadata": {
    "collapsed": true
   },
   "outputs": [],
   "source": [
    "class beta_hermite_dpp:\n",
    "    def __init__(self, n_traj, n_samples, tf, beta, rescaling=False):\n",
    "        self.n_traj = n_traj\n",
    "        self.n_samples = n_samples\n",
    "        self.tf = tf\n",
    "        self.dt = tf/n_samples\n",
    "        self.beta = beta\n",
    "        self.brownians_list = [ [np.zeros(i*self.beta) for i in range(1, self.n_traj)] ]\n",
    "        self.diag_list = [ np.zeros(self.n_traj) ]\n",
    "        self.tridiag_matrices_list = [np.zeros((self.n_traj, self.n_traj))]\n",
    "        self.generate()\n",
    "        self.eigen_values = np.zeros((self.n_samples+1, self.n_traj))\n",
    "        self.diag(rescaling)\n",
    "\n",
    "    def generate(self):\n",
    "        for sample in range(self.n_samples+1):\n",
    "            \n",
    "            diag = self.diag_list[sample] + np.random.randn(self.n_traj)*(self.dt)**0.5\n",
    "            self.diag_list.append( diag )\n",
    "            \n",
    "            tridiag_matrix = np.diag( diag )\n",
    "            brownians_sample_list = []\n",
    "            \n",
    "            for i in range(1, self.n_traj):\n",
    "                brownians_sample = self.brownians_list[sample][i-1] + np.random.randn(i*self.beta)*(self.dt/2)**0.5\n",
    "                brownians_sample_list.append( brownians_sample )\n",
    "                \n",
    "                tridiag_matrix[(self.n_traj-1)-i, (self.n_traj)-i] = np.sqrt( np.sum( brownians_sample**2 ))\n",
    "                tridiag_matrix[(self.n_traj)-i, (self.n_traj-1)-i] = np.sqrt( np.sum( brownians_sample**2 ))\n",
    "            \n",
    "            self.brownians_list.append(brownians_sample_list)\n",
    "            self.tridiag_matrices_list.append(tridiag_matrix)\n",
    "\n",
    "    def diag(self, rescaling):\n",
    "        if rescaling:\n",
    "            for sample in range(1, self.n_samples+1):\n",
    "                eigen_values = sorted(np.real( np.linalg.eigvalsh(self.tridiag_matrices_list[sample]) ), reverse=True)\n",
    "                self.eigen_values[sample] = np.multiply(eigen_values, 1/np.sqrt((sample)*self.dt))\n",
    "                #print(1/np.sqrt((sample+1)*self.dt))\n",
    "        else:\n",
    "            for sample in range(1, self.n_samples+1):\n",
    "                self.eigen_values[sample] = \\\n",
    "                    sorted(np.real(np.linalg.eigvalsh(self.tridiag_matrices_list[sample])), reverse=True)"
   ]
  },
  {
   "cell_type": "code",
   "execution_count": 6,
   "metadata": {},
   "outputs": [],
   "source": [
    "test_beta_hermite_dpp = beta_hermite_dpp(50, 300, 1, beta=2, rescaling=False)"
   ]
  },
  {
   "cell_type": "code",
   "execution_count": 7,
   "metadata": {},
   "outputs": [],
   "source": [
    "#plot_traj_with_histo(test_beta_hermite_dpp, './plot/beta_dbm_histo.png')"
   ]
  },
  {
   "cell_type": "code",
   "execution_count": null,
   "metadata": {
    "collapsed": true
   },
   "outputs": [],
   "source": []
  },
  {
   "cell_type": "markdown",
   "metadata": {},
   "source": [
    "## 2. Dynamic (rescale)"
   ]
  },
  {
   "cell_type": "code",
   "execution_count": 8,
   "metadata": {
    "collapsed": true
   },
   "outputs": [],
   "source": [
    "test_beta_hermite_dpp_rescale = beta_hermite_dpp(100, 300, 1, beta=2, rescaling=True)"
   ]
  },
  {
   "cell_type": "code",
   "execution_count": 9,
   "metadata": {},
   "outputs": [],
   "source": [
    "#plot_traj_with_histo(test_beta_hermite_dpp_rescale, './plot/beta_dbm_rescale_histo.png')"
   ]
  },
  {
   "cell_type": "code",
   "execution_count": null,
   "metadata": {},
   "outputs": [],
   "source": []
  },
  {
   "cell_type": "markdown",
   "metadata": {},
   "source": [
    "## Holcomb - Paquette"
   ]
  },
  {
   "cell_type": "code",
   "execution_count": 10,
   "metadata": {
    "collapsed": true
   },
   "outputs": [],
   "source": [
    "from numpy.polynomial import polynomial as P\n",
    "SEED = 32\n",
    "np.random.seed(SEED)"
   ]
  },
  {
   "cell_type": "code",
   "execution_count": 11,
   "metadata": {},
   "outputs": [
    {
     "name": "stdout",
     "output_type": "stream",
     "text": [
      "[[-0.34889445  2.88046957  0.          0.        ]\n",
      " [ 2.88046957  0.98370343  2.25234038  0.        ]\n",
      " [ 0.          2.25234038  0.58092283  1.37063997]\n",
      " [ 0.          0.          1.37063997  0.07028444]]\n"
     ]
    }
   ],
   "source": [
    "dim =4\n",
    "U=beta_Hermite_Gaussian_ensemble(dim,2)\n",
    "print(U)"
   ]
  },
  {
   "cell_type": "code",
   "execution_count": 12,
   "metadata": {},
   "outputs": [
    {
     "data": {
      "text/plain": [
       "array([ 4.30919474, -3.32189999,  1.2172107 , -0.91848919])"
      ]
     },
     "execution_count": 12,
     "metadata": {},
     "output_type": "execute_result"
    }
   ],
   "source": [
    "np.linalg.eigvals(U)"
   ]
  },
  {
   "cell_type": "code",
   "execution_count": 13,
   "metadata": {},
   "outputs": [
    {
     "name": "stdout",
     "output_type": "stream",
     "text": [
      "[-3.32189999 -0.91848919  1.2172107   4.30919474]\n",
      "[[ 0.61712084  0.4636926  -0.45062553 -0.448428  ]\n",
      " [-0.63694604 -0.09169229 -0.24500414 -0.72516567]\n",
      " [ 0.42837186 -0.51556862  0.55089493 -0.49719346]\n",
      " [-0.17308717  0.71468224  0.65834974 -0.16076613]]\n"
     ]
    }
   ],
   "source": [
    "lbda, vect =  np.linalg.eigh(U)\n",
    "print(lbda)\n",
    "print(vect)"
   ]
  },
  {
   "cell_type": "code",
   "execution_count": 14,
   "metadata": {},
   "outputs": [
    {
     "data": {
      "text/plain": [
       "array([-2.05001371,  2.11587103, -1.42300847,  0.57497826])"
      ]
     },
     "execution_count": 14,
     "metadata": {},
     "output_type": "execute_result"
    }
   ],
   "source": [
    "np.dot(U,vect[:,0])"
   ]
  },
  {
   "cell_type": "code",
   "execution_count": 16,
   "metadata": {},
   "outputs": [
    {
     "data": {
      "text/plain": [
       "array([-2.05001371,  2.11587103, -1.42300847,  0.57497826])"
      ]
     },
     "execution_count": 16,
     "metadata": {},
     "output_type": "execute_result"
    }
   ],
   "source": [
    "lbda[0]*vect[:,0]"
   ]
  },
  {
   "cell_type": "code",
   "execution_count": null,
   "metadata": {},
   "outputs": [],
   "source": []
  },
  {
   "cell_type": "markdown",
   "metadata": {},
   "source": [
    "### Définition des polynomes"
   ]
  },
  {
   "cell_type": "code",
   "execution_count": 53,
   "metadata": {},
   "outputs": [
    {
     "data": {
      "text/plain": [
       "array([[-0.34889445,  2.88046957,  0.        ,  0.        ],\n",
       "       [ 2.88046957,  0.98370343,  2.25234038,  0.        ],\n",
       "       [ 0.        ,  2.25234038,  0.58092283,  1.37063997],\n",
       "       [ 0.        ,  0.        ,  1.37063997,  0.07028444]])"
      ]
     },
     "execution_count": 53,
     "metadata": {},
     "output_type": "execute_result"
    }
   ],
   "source": [
    "U"
   ]
  },
  {
   "cell_type": "code",
   "execution_count": 73,
   "metadata": {
    "collapsed": true
   },
   "outputs": [],
   "source": [
    "a=np.array([0]+list(np.diag(U,1))+[1])"
   ]
  },
  {
   "cell_type": "code",
   "execution_count": 74,
   "metadata": {},
   "outputs": [],
   "source": [
    "b=np.diag(U,1)"
   ]
  },
  {
   "cell_type": "code",
   "execution_count": 76,
   "metadata": {},
   "outputs": [
    {
     "data": {
      "text/plain": [
       "array([ 2.88046957,  2.25234038,  1.37063997])"
      ]
     },
     "execution_count": 76,
     "metadata": {},
     "output_type": "execute_result"
    }
   ],
   "source": []
  },
  {
   "cell_type": "code",
   "execution_count": 36,
   "metadata": {},
   "outputs": [],
   "source": [
    "p_unit = (0,1)\n",
    "p=[]\n",
    "p.append( (1) )\n",
    "p_k_1_1 = P.polymul(p_unit, p[0])\n",
    "p_k_1_2 = P.polymul(U[0,0], p[0])\n",
    "p_new = (1/U[0,1])* P.polysub( p_k_1_1, p_k_1_2 ) \n",
    "p.append(p_new)"
   ]
  },
  {
   "cell_type": "code",
   "execution_count": 37,
   "metadata": {},
   "outputs": [
    {
     "data": {
      "text/plain": [
       "[1, array([ 0.12112416,  0.34716562])]"
      ]
     },
     "execution_count": 37,
     "metadata": {},
     "output_type": "execute_result"
    }
   ],
   "source": [
    "p"
   ]
  },
  {
   "cell_type": "code",
   "execution_count": 38,
   "metadata": {},
   "outputs": [
    {
     "name": "stdout",
     "output_type": "stream",
     "text": [
      "2\n",
      "3\n"
     ]
    }
   ],
   "source": [
    "for k in range(2,dim):\n",
    "    print(k)\n",
    "    p_k_1_1 = P.polymul(p_unit, p[k-1])\n",
    "    p_k_1_2 = P.polymul(U[k-1,k-1], p[k-1])\n",
    "    p_k_2 = P.polymul(U[k-1,k-2], p[k-2])\n",
    "    p_new = (1/U[k-1,k])*P.polysub( P.polysub(p_k_1_1, p_k_1_2), p_k_2 ) \n",
    "    p.append(p_new)"
   ]
  },
  {
   "cell_type": "code",
   "execution_count": 39,
   "metadata": {},
   "outputs": [
    {
     "data": {
      "text/plain": [
       "[1,\n",
       " array([ 0.12112416,  0.34716562]),\n",
       " array([-1.33177909, -0.0978466 ,  0.1541355 ]),\n",
       " array([ 0.36541182, -1.50066608, -0.13671529,  0.11245514])]"
      ]
     },
     "execution_count": 39,
     "metadata": {},
     "output_type": "execute_result"
    }
   ],
   "source": [
    "p"
   ]
  },
  {
   "cell_type": "code",
   "execution_count": 40,
   "metadata": {},
   "outputs": [
    {
     "data": {
      "text/plain": [
       "0.35851047185190504"
      ]
     },
     "execution_count": 40,
     "metadata": {},
     "output_type": "execute_result"
    }
   ],
   "source": [
    "P.polyval(lbda[3],p[3])"
   ]
  },
  {
   "cell_type": "code",
   "execution_count": 41,
   "metadata": {},
   "outputs": [
    {
     "data": {
      "text/plain": [
       "0.35851046321817553"
      ]
     },
     "execution_count": 41,
     "metadata": {},
     "output_type": "execute_result"
    }
   ],
   "source": [
    "0.16076613/0.448428"
   ]
  },
  {
   "cell_type": "code",
   "execution_count": 82,
   "metadata": {},
   "outputs": [],
   "source": [
    "p_n = P.polyadd(P.polymul(-U[dim-2,dim-1], p[dim-2]), P.polymul(P.polysub(p_unit, U[dim-1,dim-1]), p[dim-1]))"
   ]
  },
  {
   "cell_type": "code",
   "execution_count": 83,
   "metadata": {},
   "outputs": [
    {
     "data": {
      "text/plain": [
       "array([ 1.79970688,  0.60499776, -1.7023214 , -0.14461913,  0.11245514])"
      ]
     },
     "execution_count": 83,
     "metadata": {},
     "output_type": "execute_result"
    }
   ],
   "source": [
    "p_n"
   ]
  },
  {
   "cell_type": "markdown",
   "metadata": {},
   "source": [
    "### Calcul de G"
   ]
  },
  {
   "cell_type": "code",
   "execution_count": 86,
   "metadata": {},
   "outputs": [],
   "source": [
    "i=1\n",
    "G = np.zeros((dim,dim))\n",
    "\n",
    "\n",
    "G[0,0] = -U[0,1]*P.polyval(lbda[i],p[0])*P.polyval(lbda[i],P.polyder(p[1]))-\\\n",
    "            U[0,1]*P.polyval(lbda[i],p[1])*P.polyval(lbda[i],P.polyder(p[0]))\n",
    "\n",
    "G[dim-1,dim-1] = -U[dim-2,dim-1]*P.polyval(lbda[i],p[dim-2])*P.polyval(lbda[i],P.polyder(p[dim-1]))\\\n",
    "            +1*P.polyval(lbda[i],p[dim-1])*P.polyval(lbda[i],P.polyder(p_n))\\\n",
    "            -U[dim-2,dim-1]*P.polyval(lbda[i],p[dim-1])*P.polyval(lbda[i],P.polyder(p[dim-2]))-\\\n",
    "            +1*P.polyval(lbda[i],p_n)*P.polyval(lbda[i],P.polyder(p[dim-1]))\n",
    "            \n"
   ]
  },
  {
   "cell_type": "code",
   "execution_count": 91,
   "metadata": {},
   "outputs": [],
   "source": [
    "for k in range(1, dim-1):\n",
    "    G[k,k] = -U[k-1,k]*P.polyval(lbda[i],p[k-1])*P.polyval(lbda[i],P.polyder(p[k]))\\\n",
    "            +U[k,k+1]*P.polyval(lbda[i],p[k])*P.polyval(lbda[i],P.polyder(p[k+1]))\\\n",
    "            -U[k-1,k]*P.polyval(lbda[i],p[k])*P.polyval(lbda[i],P.polyder(p[k-1]))-\\\n",
    "            +U[k,k+1]*P.polyval(lbda[i],p[k+1])*P.polyval(lbda[i],P.polyder(p[k]))\n",
    "            \n",
    "for k in range(1,dim):\n",
    "    G[k,k-1]=-U[k-1,k]*(P.polyval(lbda[i], p[k-1])*P.polyval(lbda[i], P.polyder(p[k-1]))-\\\n",
    "                      P.polyval(lbda[i], p[k])*P.polyval(lbda[i], P.polyder(p[k])) )"
   ]
  },
  {
   "cell_type": "code",
   "execution_count": null,
   "metadata": {
    "collapsed": true
   },
   "outputs": [],
   "source": []
  },
  {
   "cell_type": "code",
   "execution_count": 92,
   "metadata": {},
   "outputs": [
    {
     "data": {
      "text/plain": [
       "array([[-1.        ,  0.        ,  0.        ,  0.        ],\n",
       "       [-0.19774371,  0.03910258,  0.        ,  0.        ],\n",
       "       [ 0.        ,  1.10874523,  2.97509762,  0.        ],\n",
       "       [ 0.        ,  0.        , -2.6190475 ,  3.98527682]])"
      ]
     },
     "execution_count": 92,
     "metadata": {},
     "output_type": "execute_result"
    }
   ],
   "source": [
    "G"
   ]
  },
  {
   "cell_type": "code",
   "execution_count": null,
   "metadata": {
    "collapsed": true
   },
   "outputs": [],
   "source": []
  }
 ],
 "metadata": {
  "kernelspec": {
   "display_name": "Python 3",
   "language": "python",
   "name": "python3"
  },
  "language_info": {
   "codemirror_mode": {
    "name": "ipython",
    "version": 3
   },
   "file_extension": ".py",
   "mimetype": "text/x-python",
   "name": "python",
   "nbconvert_exporter": "python",
   "pygments_lexer": "ipython3",
   "version": "3.5.2"
  }
 },
 "nbformat": 4,
 "nbformat_minor": 1
}
